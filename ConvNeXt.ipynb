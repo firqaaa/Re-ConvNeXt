{
 "cells": [
  {
   "cell_type": "code",
   "execution_count": 1,
   "metadata": {},
   "outputs": [],
   "source": [
    "import torch\n",
    "from torch import nn\n",
    "from typing import List\n",
    "from torch import Tensor"
   ]
  },
  {
   "cell_type": "code",
   "execution_count": 2,
   "metadata": {},
   "outputs": [],
   "source": [
    "\n",
    "from torchvision.ops import StochasticDepth\n",
    "\n",
    "class LayerScaler(nn.Module):\n",
    "    def __init__(self, init_value: float, dimensions: int):\n",
    "        super().__init__()\n",
    "        self.gamma = nn.Parameter(init_value * torch.ones((dimensions)), requires_grad=True)\n",
    "\n",
    "    def forward(self, x):\n",
    "        return self.gamma[None, ..., None, None] * x\n",
    "    \n",
    "class BottleNeckBlock(nn.Module): \n",
    "    '''Inverted BottleNeck'''\n",
    "    def __init__(self, in_features: int, out_features: int, \n",
    "                expansion: int = 4, drop_p:float = .0, layer_scaler_init_value: float = 1e-6):\n",
    "        super().__init__()\n",
    "        expanded_features = out_features * expansion\n",
    "        self.block = nn.Sequential(\n",
    "            # narrow -> wide (with depth-wise and bigger kernel)\n",
    "            nn.Conv2d(\n",
    "                in_features, in_features, kernel_size=7, padding=3, bias=False, groups=in_features\n",
    "            ),\n",
    "            # GroupNorm with num_groups=1 is the same as LayerNorm but works for 2D data\n",
    "            nn.GroupNorm(num_groups=1, num_channels=in_features),\n",
    "            # wide -> wide\n",
    "            nn.Conv2d(in_features, expanded_features, kernel_size=1),\n",
    "            nn.GELU(), # Use GELU rather than ReLU \n",
    "            # wide -> narrow\n",
    "            nn.Conv2d(expanded_features, out_features, kernel_size=1),\n",
    "        )\n",
    "        self.layer_scaler = LayerScaler(layer_scaler_init_value, out_features)\n",
    "        self.drop_path = StochasticDepth(drop_p, mode=\"batch\")\n",
    "\n",
    "    def forward(self, x: Tensor) -> Tensor:\n",
    "        res = x\n",
    "        x = self.block(x)\n",
    "        x = self.layer_scaler(x)\n",
    "        x = self.drop_path(x)\n",
    "        x += res\n",
    "        return x\n"
   ]
  },
  {
   "cell_type": "code",
   "execution_count": 3,
   "metadata": {},
   "outputs": [],
   "source": [
    "class ConvNextStage(nn.Sequential):\n",
    "    def __init__(self, in_features: int, out_features: int, depth: int, **kwargs):\n",
    "        super().__init__(\n",
    "\n",
    "            nn.Sequential(\n",
    "                nn.GroupNorm(num_groups=1, num_channels=in_features),\n",
    "                nn.Conv2d(in_features, out_features, kernel_size=2, stride=2)\n",
    "            ),\n",
    "            *[\n",
    "                BottleNeckBlock(out_features, out_features, **kwargs)\n",
    "                for _ in range(depth)\n",
    "            ],\n",
    "        )"
   ]
  },
  {
   "cell_type": "code",
   "execution_count": 4,
   "metadata": {},
   "outputs": [],
   "source": [
    "class ConvNextStem(nn.Sequential): \n",
    "    '''Patchifying stem: a 7x7 convolution with stride 2 followed by a 3x3 max pooling with stride 2 \n",
    "       -> a 4x4 convolution with stride 4 (from overlapping to non-overlapping).'''\n",
    "    def __init__(self, in_features: int, out_features: int):\n",
    "        super().__init__(\n",
    "            nn.Conv2d(in_features, out_features, kernel_size=4, stride=4),\n",
    "            nn.BatchNorm2d(out_features)\n",
    "        )"
   ]
  },
  {
   "cell_type": "code",
   "execution_count": 5,
   "metadata": {},
   "outputs": [],
   "source": [
    "class ConvNextEncoder(nn.Module):\n",
    "    def __init__(self, in_channels: int, stem_features: int, \n",
    "                depths: List[int], widths: List[int], drop_p: float = .0):\n",
    "        super().__init__()\n",
    "        self.stem = ConvNextStem(in_channels, stem_features)\n",
    "\n",
    "        in_out_widths = list(zip(widths, widths[1:]))\n",
    "\n",
    "        drop_probs = [x.item() for x in torch.linspace(0, drop_p, sum(depths))]\n",
    "        \n",
    "        self.stages = nn.ModuleList(\n",
    "            [\n",
    "                ConvNextStage(stem_features, widths[0], depths[0], drop_p=drop_probs[0]),\n",
    "                *[\n",
    "                    ConvNextStage(in_features, out_features, depth, drop_p=drop_p) \n",
    "                    for (in_features, out_features), depth, drop_p in zip(in_out_widths, depths[1:], drop_probs[1:])\n",
    "                ]\n",
    "            ]\n",
    "        )\n",
    "    \n",
    "    def forward(self, x):\n",
    "        x = self.stem(x)\n",
    "        for stage in self.stages:\n",
    "            x = stage(x)\n",
    "        return x"
   ]
  },
  {
   "cell_type": "code",
   "execution_count": 6,
   "metadata": {},
   "outputs": [],
   "source": [
    "class ClassificationHead(nn.Sequential):\n",
    "    def __init__(self, num_channels: int, num_classes: int = 1000):\n",
    "        super().__init__(\n",
    "            nn.AdaptiveAvgPool2d((1, 1)),\n",
    "            nn.Flatten(1),\n",
    "            nn.LayerNorm(num_channels),\n",
    "            nn.Linear(num_channels, num_classes)\n",
    "        )\n",
    "\n",
    "class ConvNext(nn.Sequential):\n",
    "    def __init__(self,\n",
    "                in_channels: int,\n",
    "                stem_features: int,\n",
    "                depths: List[int],\n",
    "                widths: List[int],\n",
    "                drop_p: float = .0,\n",
    "                num_classes: int = 1000):\n",
    "\n",
    "        super().__init__()\n",
    "        self.encoder = ConvNextEncoder(in_channels, stem_features, depths, widths, drop_p)\n",
    "        self.head = ClassificationHead(widths[-1], num_classes)"
   ]
  },
  {
   "cell_type": "code",
   "execution_count": 7,
   "metadata": {},
   "outputs": [
    {
     "data": {
      "text/plain": [
       "torch.Size([1, 10])"
      ]
     },
     "execution_count": 7,
     "metadata": {},
     "output_type": "execute_result"
    }
   ],
   "source": [
    "image = torch.rand(1, 3, 224, 224)\n",
    "classifier = ConvNext(in_channels=3, stem_features=64, depths=[3,4,6,4], widths=[256, 512, 1024, 2048], num_classes=10)\n",
    "classifier(image).shape"
   ]
  }
 ],
 "metadata": {
  "kernelspec": {
   "display_name": "nvidia",
   "language": "python",
   "name": "python3"
  },
  "language_info": {
   "codemirror_mode": {
    "name": "ipython",
    "version": 3
   },
   "file_extension": ".py",
   "mimetype": "text/x-python",
   "name": "python",
   "nbconvert_exporter": "python",
   "pygments_lexer": "ipython3",
   "version": "3.8.16"
  },
  "orig_nbformat": 4,
  "vscode": {
   "interpreter": {
    "hash": "411e8959fc645679f722ebc217c986948307cd6965f378b589f4a092eab0a4d4"
   }
  }
 },
 "nbformat": 4,
 "nbformat_minor": 2
}
